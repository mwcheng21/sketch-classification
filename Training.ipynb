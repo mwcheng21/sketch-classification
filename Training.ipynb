{
  "nbformat": 4,
  "nbformat_minor": 0,
  "metadata": {
    "colab": {
      "name": "Training.ipynb",
      "provenance": [],
      "collapsed_sections": [],
      "toc_visible": true
    },
    "kernelspec": {
      "display_name": "Python 3",
      "name": "python3"
    },
    "accelerator": "GPU"
  },
  "cells": [
    {
      "cell_type": "markdown",
      "metadata": {
        "id": "0hLVE8ncIxFl"
      },
      "source": [
        "Dataloaders, training models, and evaluation"
      ]
    },
    {
      "cell_type": "code",
      "metadata": {
        "id": "Jl3JhwRH-IHw"
      },
      "source": [
        "# Mount Drive \n",
        "from google.colab import drive\n",
        "\n",
        "drive.mount('/content/gdrive')\n",
        "\n",
        "\n",
        "#Change to the correct directory\n",
        "import os\n",
        "os.chdir('/content/gdrive/My Drive/junior/442')\n",
        "\n",
        "!ls\n",
        "!pwd\n"
      ],
      "execution_count": null,
      "outputs": []
    },
    {
      "cell_type": "code",
      "metadata": {
        "id": "va17_7hI4XSG"
      },
      "source": [
        "#Make imports\r\n",
        "import torch\r\n",
        "import torch.nn as nn\r\n",
        "import torch.optim as optim\r\n",
        "from torch.autograd import Variable\r\n",
        "from torchvision import datasets, models, transforms\r\n",
        "from PIL import Image\r\n",
        "import numpy as np\r\n",
        "import os\r\n",
        "import numpy as np\r\n",
        "import PIL\r\n",
        "from PIL import Image\r\n",
        "import cv2 as cv\r\n",
        "from cv2 import imread\r\n",
        "import time\r\n",
        "import copy\r\n",
        "\r\n",
        "\r\n",
        "# Detect if we have a GPU available\r\n",
        "device = torch.device(\"cuda:0\" if torch.cuda.is_available() else \"cpu\")\r\n",
        "if torch.cuda.is_available():\r\n",
        "    print(\"Using the GPU!\")\r\n",
        "else:\r\n",
        "    print(\"WARNING: Could not find GPU! Using CPU only. If you want to enable GPU, please to go Edit > Notebook Settings > Hardware Accelerator and select GPU.\")\r\n"
      ],
      "execution_count": null,
      "outputs": []
    },
    {
      "cell_type": "code",
      "metadata": {
        "id": "COK6SC10Art6"
      },
      "source": [
        "# Double check done the files are correctly mounted\r\n",
        "\r\n",
        "\r\n",
        "#should all be 250\r\n",
        "!ls -l ./png | grep \"^d\" | wc -l\r\n",
        "!ls -l ./png224 | grep \"^d\" | wc -l\r\n",
        "!ls -l ./png224output/train | grep \"^d\" | wc -l\r\n",
        "!ls -l ./png224output/test | grep \"^d\" | wc -l\r\n",
        "!ls -l ./png224output/val | grep \"^d\" | wc -l\r\n",
        "\r\n",
        "# 48 16 16\r\n",
        "!ls -l ./png224output/train/airplane | egrep -c '^-'\r\n",
        "!ls -l ./png224output/test/airplane | egrep -c '^-'\r\n",
        "!ls -l ./png224output/val/airplane | egrep -c '^-'\r\n",
        "\r\n",
        "# all 80\r\n",
        "!ls -l ./png224/airplane | egrep -c '^-'\r\n",
        "!ls -l ./png224/zebra | egrep -c '^-'\r\n",
        "!ls -l ./png/zebra | egrep -c '^-'\r\n",
        "!ls -l ./png/airplane | egrep -c '^-'"
      ],
      "execution_count": null,
      "outputs": []
    },
    {
      "cell_type": "markdown",
      "metadata": {
        "id": "6CW_JWOaRH41"
      },
      "source": [
        "#Dataloaders#"
      ]
    },
    {
      "cell_type": "code",
      "metadata": {
        "id": "DL7Vf7qXdk5Z"
      },
      "source": [
        "def get_dataloaders(input_size, batch_size, shuffle = True):\n",
        "    '''\n",
        "    Build dataloaders with transformations. \n",
        "\n",
        "    Args:\n",
        "        input_size: int, the size of the tranformed images\n",
        "        batch_size: int, minibatch size for dataloading\n",
        "\n",
        "    Returns:\n",
        "        dataloader_dict: dict, dict with \"train\", \"val\", \"test\" keys, each is mapped to a pytorch dataloader.\n",
        "\n",
        "    '''\n",
        "\n",
        "    mean = [0.485, 0.456, 0.406]\n",
        "    std = [0.229, 0.224, 0.225]\n",
        "\n",
        "    composed_transform =  transforms.Compose([\n",
        "        transforms.Resize(input_size),\n",
        "        transforms.ToTensor(),\n",
        "        transforms.Normalize(mean=mean, std=std)\n",
        "    ])\n",
        "\n",
        "    data_transforms = {\n",
        "        'train': composed_transform,\n",
        "        'val': composed_transform,\n",
        "        'test': composed_transform\n",
        "    }\n",
        "    data_dir = \"png224output/\"\n",
        "    image_datasets = {x: datasets.ImageFolder(os.path.join(data_dir, x), data_transforms[x]) for x in data_transforms.keys()}\n",
        "\n",
        "    # Create training train/val/test dataloaders\n",
        "    # Never shuffle the val and test datasets\n",
        "    dataloaders_dict = {x: torch.utils.data.DataLoader(image_datasets[x], batch_size=batch_size, shuffle=False if x != 'train' else shuffle, num_workers=2) for x in data_transforms.keys()}\n",
        "    \n",
        "\n",
        "\n",
        "    return dataloaders_dict"
      ],
      "execution_count": null,
      "outputs": []
    },
    {
      "cell_type": "markdown",
      "metadata": {
        "id": "Fq6X2HfWXcVP"
      },
      "source": [
        "## Dataloader creation"
      ]
    },
    {
      "cell_type": "code",
      "metadata": {
        "colab": {
          "base_uri": "https://localhost:8080/"
        },
        "id": "kKmaxzTyXdfv",
        "outputId": "e4aa818d-7025-40be-d4b1-888bccf05714"
      },
      "source": [
        "batch_size = 16\n",
        "input_size = 224\n",
        "dataloaders_dict = get_dataloaders(input_size, batch_size)\n",
        "\n",
        "# Confirm your train/val/test sets contain 12,000/4000/4000 samples\n",
        "print('# of training samples {}'.format(len(dataloaders_dict['train'].dataset))) \n",
        "print('# of validation samples {}'.format(len(dataloaders_dict['val'].dataset)))  \n",
        "print('# of test samples {}'.format(len(dataloaders_dict['test'].dataset))) "
      ],
      "execution_count": null,
      "outputs": [
        {
          "output_type": "stream",
          "text": [
            "# of training samples 12000\n",
            "# of validation samples 4000\n",
            "# of test samples 4000\n"
          ],
          "name": "stdout"
        }
      ]
    },
    {
      "cell_type": "code",
      "metadata": {
        "id": "LFhTJkp0q4-y"
      },
      "source": [
        "# from https://pytorch.org/tutorials/beginner/finetuning_torchvision_models_tutorial.html\n",
        "# Will load a given pretrained model\n",
        "def initialize_model(model_name, num_classes, feature_extract, use_pretrained=True):\n",
        "    # Initialize these variables which will be set in this if statement. Each of these\n",
        "    #   variables is model specific.\n",
        "    model_ft = None\n",
        "    input_size = 0\n",
        "\n",
        "    if model_name == \"resnet\":\n",
        "        \"\"\" Resnet18\n",
        "        \"\"\"\n",
        "        model_ft = models.resnet18(pretrained=use_pretrained)\n",
        "        set_parameter_requires_grad(model_ft, feature_extract)\n",
        "        num_ftrs = model_ft.fc.in_features\n",
        "        model_ft.fc = nn.Linear(num_ftrs, num_classes)\n",
        "        input_size = 224\n",
        "    if model_name == \"resnet152\":\n",
        "        \"\"\" Resnet18\n",
        "        \"\"\"\n",
        "        model_ft = models.resnet152(pretrained=use_pretrained)\n",
        "        set_parameter_requires_grad(model_ft, feature_extract)\n",
        "        num_ftrs = model_ft.fc.in_features\n",
        "        model_ft.fc = nn.Linear(num_ftrs, num_classes)\n",
        "        input_size = 224\n",
        "    if model_name == \"resnet101\":\n",
        "        \"\"\" Resnet18\n",
        "        \"\"\"\n",
        "        model_ft = models.resnet101(pretrained=use_pretrained)\n",
        "        set_parameter_requires_grad(model_ft, feature_extract)\n",
        "        num_ftrs = model_ft.fc.in_features\n",
        "        model_ft.fc = nn.Linear(num_ftrs, num_classes)\n",
        "        input_size = 224\n",
        "\n",
        "    elif model_name == \"alexnet\":\n",
        "        \"\"\" Alexnet\n",
        "        \"\"\"\n",
        "        model_ft = models.alexnet(pretrained=use_pretrained)\n",
        "        set_parameter_requires_grad(model_ft, feature_extract)\n",
        "        num_ftrs = model_ft.classifier[6].in_features\n",
        "        model_ft.classifier[6] = nn.Linear(num_ftrs,num_classes)\n",
        "        input_size = 224\n",
        "\n",
        "    elif model_name == \"vgg\":\n",
        "        \"\"\" VGG11_bn\n",
        "        \"\"\"\n",
        "        model_ft = models.vgg11_bn(pretrained=use_pretrained)\n",
        "        set_parameter_requires_grad(model_ft, feature_extract)\n",
        "        num_ftrs = model_ft.classifier[6].in_features\n",
        "        model_ft.classifier[6] = nn.Linear(num_ftrs,num_classes)\n",
        "        input_size = 224\n",
        "    elif model_name == \"vgg19\":\n",
        "        \"\"\" VGG11_bn\n",
        "        \"\"\"\n",
        "        model_ft = models.vgg19_bn(pretrained=use_pretrained)\n",
        "        set_parameter_requires_grad(model_ft, feature_extract)\n",
        "        num_ftrs = model_ft.classifier[6].in_features\n",
        "        model_ft.classifier[6] = nn.Linear(num_ftrs,num_classes)\n",
        "        input_size = 224\n",
        "    elif model_name == \"vgg11_norm\":\n",
        "        \"\"\" VGG11_bn\n",
        "        \"\"\"\n",
        "        model_ft = models.vgg11(pretrained=use_pretrained)\n",
        "        set_parameter_requires_grad(model_ft, feature_extract)\n",
        "        num_ftrs = model_ft.classifier[6].in_features\n",
        "        model_ft.classifier[6] = nn.Linear(num_ftrs,num_classes)\n",
        "        input_size = 224\n",
        "    elif model_name == \"vgg19_norm\":\n",
        "        \"\"\" VGG11_bn\n",
        "        \"\"\"\n",
        "        model_ft = models.vgg19(pretrained=use_pretrained)\n",
        "        set_parameter_requires_grad(model_ft, feature_extract)\n",
        "        num_ftrs = model_ft.classifier[6].in_features\n",
        "        model_ft.classifier[6] = nn.Linear(num_ftrs,num_classes)\n",
        "        input_size = 224\n",
        "\n",
        "    elif model_name == \"squeezenet\":\n",
        "        \"\"\" Squeezenet\n",
        "        \"\"\"\n",
        "        model_ft = models.squeezenet1_0(pretrained=use_pretrained)\n",
        "        set_parameter_requires_grad(model_ft, feature_extract)\n",
        "        model_ft.classifier[1] = nn.Conv2d(512, num_classes, kernel_size=(1,1), stride=(1,1))\n",
        "        model_ft.num_classes = num_classes\n",
        "        input_size = 224\n",
        "\n",
        "    elif model_name == \"densenet\":\n",
        "        \"\"\" Densenet\n",
        "        \"\"\"\n",
        "        model_ft = models.densenet121(pretrained=use_pretrained)\n",
        "        set_parameter_requires_grad(model_ft, feature_extract)\n",
        "        num_ftrs = model_ft.classifier.in_features\n",
        "        model_ft.classifier = nn.Linear(num_ftrs, num_classes)\n",
        "        input_size = 224\n",
        "\n",
        "    elif model_name == \"densenet201\":\n",
        "        \"\"\" Densenet\n",
        "        \"\"\"\n",
        "        model_ft = models.densenet201(pretrained=use_pretrained)\n",
        "        set_parameter_requires_grad(model_ft, feature_extract)\n",
        "        num_ftrs = model_ft.classifier.in_features\n",
        "        model_ft.classifier = nn.Linear(num_ftrs, num_classes)\n",
        "        input_size = 224\n",
        "    elif model_name == \"densenet161\":\n",
        "        \"\"\" Densenet\n",
        "        \"\"\"\n",
        "        model_ft = models.densenet161(pretrained=use_pretrained)\n",
        "        set_parameter_requires_grad(model_ft, feature_extract)\n",
        "        num_ftrs = model_ft.classifier.in_features\n",
        "        model_ft.classifier = nn.Linear(num_ftrs, num_classes)\n",
        "        input_size = 224\n",
        "\n",
        "    elif model_name == \"inception\":\n",
        "        \"\"\" Inception v3\n",
        "        Be careful, expects (299,299) sized images and has auxiliary output\n",
        "        \"\"\"\n",
        "        model_ft = models.inception_v3(pretrained=use_pretrained)\n",
        "        set_parameter_requires_grad(model_ft, feature_extract)\n",
        "        # Handle the auxilary net\n",
        "        num_ftrs = model_ft.AuxLogits.fc.in_features\n",
        "        model_ft.AuxLogits.fc = nn.Linear(num_ftrs, num_classes)\n",
        "        # Handle the primary net\n",
        "        num_ftrs = model_ft.fc.in_features\n",
        "        model_ft.fc = nn.Linear(num_ftrs,num_classes)\n",
        "        input_size = 299\n",
        "    elif model_name == \"googlenet\":\n",
        "        model_ft =  models.googlenet(pretrained=use_pretrained)\n",
        "        set_parameter_requires_grad(model_ft, feature_extract)\n",
        "        num_ftrs = model_ft.fc.in_features\n",
        "        model_ft.fc = nn.Linear(num_ftrs, num_classes)\n",
        "        input_size = 224\n",
        "    elif model_name == \"shufflenet\":\n",
        "        model_ft = models.shufflenet_v2_x1_0(pretrained=True)\n",
        "        set_parameter_requires_grad(model_ft, feature_extract)\n",
        "        num_ftrs = model_ft.fc.in_features\n",
        "        model_ft.fc = nn.Linear(num_ftrs, num_classes)\n",
        "        input_size = 224\n",
        "    elif model_name == \"mobilenet\":\n",
        "        model_ft = models.mobilenet_v2(pretrained=True)\n",
        "        set_parameter_requires_grad(model_ft, feature_extract)\n",
        "        num_ftrs = model_ft.classifier[1].in_features\n",
        "        model_ft.classifier[1] = nn.Linear(num_ftrs, num_classes)\n",
        "        input_size = 224\n",
        "    elif model_name == \"resnext\":\n",
        "        model_ft = models.resnext50_32x4d(pretrained=True)\n",
        "        set_parameter_requires_grad(model_ft, feature_extract)\n",
        "        num_ftrs = model_ft.fc.in_features\n",
        "        model_ft.fc = nn.Linear(num_ftrs, num_classes)\n",
        "        input_size = 224\n",
        "    elif model_name == \"resnext101\":\n",
        "        model_ft = models.resnext101_32x8d(pretrained=True)\n",
        "        set_parameter_requires_grad(model_ft, feature_extract)\n",
        "        num_ftrs = model_ft.fc.in_features\n",
        "        model_ft.fc = nn.Linear(num_ftrs, num_classes)\n",
        "        input_size = 224\n",
        "    elif model_name == \"mnasnet\":\n",
        "        model_ft = models.mnasnet1_0(pretrained=True)\n",
        "        set_parameter_requires_grad(model_ft, feature_extract)\n",
        "        print(model_ft.classifier)\n",
        "        num_ftrs = model_ft.classifier[1].in_features\n",
        "        model_ft.classifier[1] = nn.Linear(num_ftrs, num_classes)\n",
        "        input_size = 224\n",
        "    elif model_name == \"wideresnet\":\n",
        "        model_ft = models.wide_resnet50_2(pretrained=True)\n",
        "        set_parameter_requires_grad(model_ft, feature_extract)\n",
        "        num_ftrs = model_ft.fc.in_features\n",
        "        model_ft.fc = nn.Linear(num_ftrs, num_classes)\n",
        "        input_size = 224\n",
        "    elif model_name == \"wideresnet101\":\n",
        "        model_ft = models.wide_resnet101_2(pretrained=True)\n",
        "        set_parameter_requires_grad(model_ft, feature_extract)\n",
        "        num_ftrs = model_ft.fc.in_features\n",
        "        model_ft.fc = nn.Linear(num_ftrs, num_classes)\n",
        "        input_size = 224\n",
        "    else:\n",
        "        print(\"Invalid model name, exiting...\")\n",
        "        exit()\n",
        "\n",
        "    return model_ft, input_size\n",
        "\n",
        "def set_parameter_requires_grad(model, feature_extracting):\n",
        "    if feature_extracting:\n",
        "        for param in model.parameters():\n",
        "            param.requires_grad = False"
      ],
      "execution_count": null,
      "outputs": []
    },
    {
      "cell_type": "markdown",
      "metadata": {
        "id": "N08bfbWqJMf4"
      },
      "source": [
        "#Training#"
      ]
    },
    {
      "cell_type": "code",
      "metadata": {
        "id": "7SHlqyoRsTov"
      },
      "source": [
        "# Train a input model\n",
        "def train_model(model, dataloaders, criterion, optimizer, num_epochs=25, is_inception=False):\n",
        "    since = time.time()\n",
        "\n",
        "    val_acc_history = []\n",
        "    train_acc_history = []\n",
        "    val_loss_history = []\n",
        "    train_loss_history = []\n",
        "\n",
        "    best_model_wts = copy.deepcopy(model.state_dict())\n",
        "    best_acc = 0.0\n",
        "\n",
        "    for epoch in range(num_epochs):\n",
        "        print('Epoch {}/{}'.format(epoch, num_epochs - 1))\n",
        "        print('-' * 10)\n",
        "\n",
        "        # Each epoch has a training and validation phase\n",
        "        for phase in ['train', 'val']:\n",
        "            if phase == 'train':\n",
        "                model.train()  # Set model to training mode\n",
        "            else:\n",
        "                model.eval()   # Set model to evaluate mode\n",
        "\n",
        "            running_loss = 0.0\n",
        "            running_corrects = 0\n",
        "\n",
        "            # Iterate over data.\n",
        "            for inputs, labels in dataloaders[phase]:\n",
        "                inputs = inputs.to(device)\n",
        "                labels = labels.to(device)\n",
        "\n",
        "                # zero the parameter gradients\n",
        "                optimizer.zero_grad()\n",
        "\n",
        "                # forward\n",
        "                # track history if only in train\n",
        "                with torch.set_grad_enabled(phase == 'train'):\n",
        "                    # Get model outputs and calculate loss\n",
        "                    # Special case for inception because in training it has an auxiliary output. In train\n",
        "                    #   mode we calculate the loss by summing the final output and the auxiliary output\n",
        "                    #   but in testing we only consider the final output.\n",
        "                    if is_inception and phase == 'train':\n",
        "                        # From https://discuss.pytorch.org/t/how-to-optimize-inception-model-with-auxiliary-classifiers/7958\n",
        "                        outputs, aux_outputs = model(inputs)\n",
        "                        loss1 = criterion(outputs, labels)\n",
        "                        loss2 = criterion(aux_outputs, labels)\n",
        "                        loss = loss1 + 0.4*loss2\n",
        "                    else:\n",
        "                        outputs = model(inputs)\n",
        "                        loss = criterion(outputs, labels)\n",
        "\n",
        "                    _, preds = torch.max(outputs, 1)\n",
        "\n",
        "                    # backward + optimize only if in training phase\n",
        "                    if phase == 'train':\n",
        "                        loss.backward()\n",
        "                        optimizer.step()\n",
        "\n",
        "                # statistics\n",
        "                running_loss += loss.item() * inputs.size(0)\n",
        "                running_corrects += torch.sum(preds == labels.data)\n",
        "\n",
        "            epoch_loss = running_loss / len(dataloaders[phase].dataset)\n",
        "            epoch_acc = running_corrects.double() / len(dataloaders[phase].dataset)\n",
        "\n",
        "            print('{} Loss: {:.4f} Acc: {:.4f}'.format(phase, epoch_loss, epoch_acc))\n",
        "\n",
        "            # deep copy the model\n",
        "            if phase == 'val' and epoch_acc > best_acc:\n",
        "                best_acc = epoch_acc\n",
        "                best_model_wts = copy.deepcopy(model.state_dict())\n",
        "            if phase == 'val':\n",
        "                val_acc_history.append(epoch_acc)\n",
        "                val_loss_history.append(epoch_loss)\n",
        "            elif phase == 'train':\n",
        "              train_acc_history.append(epoch_acc)\n",
        "              train_loss_history.append(epoch_loss)\n",
        "\n",
        "        print()\n",
        "\n",
        "    time_elapsed = time.time() - since\n",
        "    print('Training complete in {:.0f}m {:.0f}s'.format(time_elapsed // 60, time_elapsed % 60))\n",
        "    print('Best val Acc: {:4f}'.format(best_acc))\n",
        "\n",
        "    # load best model weights\n",
        "    model.load_state_dict(best_model_wts)\n",
        "    return model, val_acc_history, val_loss_history, train_acc_history, train_loss_history"
      ],
      "execution_count": null,
      "outputs": []
    },
    {
      "cell_type": "markdown",
      "metadata": {
        "id": "1MC68_AbXZpK"
      },
      "source": [
        "## Training driver"
      ]
    },
    {
      "cell_type": "code",
      "metadata": {
        "id": "0OviwC6OJZLR"
      },
      "source": [
        "def train_given_model(model_name, pretrained=True):\n",
        "  \"\"\" Driver for training a model\n",
        "\n",
        "    Args:\n",
        "        model_name: str, \"densenet\", \"resnet\", \"alexnet\", \"vgg\", \"squeezenet\"\n",
        "\n",
        "    Returns:\n",
        "        models saved to models/224stateDict_<model_name>.pth\n",
        "  \"\"\"\n",
        "  num_classes = 250\n",
        "  # Flag for feature extracting. When False, we finetune the whole model,\n",
        "  #   when True we only update the reshaped layer params\n",
        "  feature_extract = False\n",
        "  # Initialize the model for this run\n",
        "  model_ft, input_size = initialize_model(model_name, num_classes, feature_extract, use_pretrained=pretrained)\n",
        "\n",
        "  # Print the model we just instantiated\n",
        "  print(model_ft)\n",
        "\n",
        "\n",
        "  # Send the model to GPU\n",
        "  model_ft = model_ft.to(device)\n",
        "\n",
        "  # Gather the parameters to be optimized/updated in this run. If we are\n",
        "  #  finetuning we will be updating all parameters. However, if we are\n",
        "  #  doing feature extract method, we will only update the parameters\n",
        "  #  that we have just initialized, i.e. the parameters with requires_grad\n",
        "  #  is True.\n",
        "  params_to_update = model_ft.parameters()\n",
        "  print(\"Params to learn:\")\n",
        "  if feature_extract:\n",
        "      params_to_update = []\n",
        "      for name,param in model_ft.named_parameters():\n",
        "          if param.requires_grad == True:\n",
        "              params_to_update.append(param)\n",
        "              print(\"\\t\",name)\n",
        "  else:\n",
        "      for name,param in model_ft.named_parameters():\n",
        "          if param.requires_grad == True:\n",
        "              print(\"\\t\",name)\n",
        "\n",
        "  # Observe that all parameters are being optimized\n",
        "  optimizer_ft = optim.SGD(params_to_update, lr=0.001, momentum=0.9)\n",
        "\n",
        "\n",
        "  # Setup the loss fxn\n",
        "  criterion = nn.CrossEntropyLoss()\n",
        "  num_epochs = 20\n",
        "\n",
        "  # Train model\n",
        "  model_ft, val_acc_history, val_loss_history, train_acc_history, train_loss_history = train_model(model_ft, dataloaders_dict, criterion, optimizer_ft, num_epochs=num_epochs, is_inception=(model_name==\"inception\"))\n",
        "\n",
        "  addition= \"pretrained\" if pretrained else \"untrained\"\n",
        "  # Save model\n",
        "  #torch.save(model_ft.state_dict(), 'models/{}_224stateDict_{}.pth'.format(addition, model_name))\n",
        "  torch.save(model_ft, 'models/{}_224Model_{}.pth'.format(addition, model_name))\n",
        "  torch.save(val_acc_history, 'models/{}_224val_acc_Hist_{}.pth'.format(addition, model_name))\n",
        "  torch.save(val_loss_history, 'models/{}_224val_loss_Hist_{}.pth'.format(addition, model_name))\n",
        "  torch.save(train_acc_history, 'models/{}_224train_acc_Hist_{}.pth'.format(addition, model_name))\n",
        "  torch.save(train_loss_history, 'models/{}_224train_loss_Hist_{}.pth'.format(addition, model_name))\n",
        "\n"
      ],
      "execution_count": null,
      "outputs": []
    },
    {
      "cell_type": "markdown",
      "metadata": {
        "id": "YGz0RZWrXXQZ"
      },
      "source": [
        "## Models to train"
      ]
    },
    {
      "cell_type": "code",
      "metadata": {
        "id": "3R8AeDmmfApT"
      },
      "source": [
        "#!mkdir models\r\n",
        "#Train all the models\r\n",
        "model_types_to_train = [\"googlenet\", \"alexnet\", \"vgg\", \"squeezenet\", \"densenet\", \"resnet\", \"mobilenet\", \"shufflenet\", \"resnext\", \"mnasnet\", \"wideresnet\", \"vgg19\", \"densenet201\", \"resnet152\", \"wideresnet101\", \"vgg19_norm\", \"vgg11_norm\", \"resnet101\", \"densenet161\", \"resnext101\"]"
      ],
      "execution_count": null,
      "outputs": []
    },
    {
      "cell_type": "code",
      "metadata": {
        "id": "oNkeMHbS4whe"
      },
      "source": [
        "\n",
        "for model in model_types_to_train:\n",
        "  train_given_model(model)\n",
        "\n",
        "#training from scratch would take too long\n",
        "#for model in model_types_to_train:\n",
        "#  train_given_model(model, pretrained=False)"
      ],
      "execution_count": null,
      "outputs": []
    },
    {
      "cell_type": "markdown",
      "metadata": {
        "id": "dtgV6hejJMoH"
      },
      "source": [
        "#Evaluation#"
      ]
    },
    {
      "cell_type": "markdown",
      "metadata": {
        "id": "7xMHgPNoioM9"
      },
      "source": [
        ""
      ]
    },
    {
      "cell_type": "code",
      "metadata": {
        "id": "8z4CGrGqzB_-"
      },
      "source": [
        "def test(model, dataloader, topk):\n",
        "    model.eval()\n",
        "    cor = 0\n",
        "    accPerClass = []\n",
        "    for inputs, labels in dataloader:\n",
        "      labels = labels.cuda()\n",
        "      inputs = inputs.cuda()\n",
        "      output = model(inputs)\n",
        "      _, preds = torch.topk(output, topk, 1)\n",
        "      preds = preds.cuda()\n",
        "      numCorrectThisOne = 0\n",
        "      for idx in range(len(preds)):\n",
        "        if (labels[idx] in preds[idx]):\n",
        "          numCorrectThisOne += 1\n",
        "          cor += 1\n",
        "      accPerClass.append(numCorrectThisOne/16)\n",
        "    #print('accuracy of {}%'.format(cor/4000))\n",
        "    return accPerClass, cor/4000\n"
      ],
      "execution_count": null,
      "outputs": []
    },
    {
      "cell_type": "code",
      "metadata": {
        "id": "8QypSYZmXqpw"
      },
      "source": [
        "# Evaluate models top 1\r\n",
        "accuracies1 = []\r\n",
        "accuracies5 = []\r\n",
        "\r\n",
        "accuracies15_1 = []\r\n",
        "accuracies15_5 = []\r\n",
        "for model in model_types_to_train:\r\n",
        "  loaded_model = torch.load('models/pretrained_224Model_{}.pth'.format(model))\r\n",
        "  loaded_model.eval()\r\n",
        "  accuracies, acc1 = test(loaded_model, dataloaders_dict['test'], 1)\r\n",
        "  accuracies, acc2 = test(loaded_model, dataloaders_dict['test'], 5)\r\n",
        "  print(str(model) + \" top1 - \" + str(acc1) + \"  top5 - \" + str(acc2))\r\n"
      ],
      "execution_count": null,
      "outputs": []
    },
    {
      "cell_type": "code",
      "metadata": {
        "id": "u3AyAF_ciNpr"
      },
      "source": [
        "# Print number param\r\n",
        "for model in model_types_to_train:\r\n",
        "  loaded_model = torch.load('models/pretrained_224Model_{}.pth'.format(model))\r\n",
        "\r\n",
        "  pytorch_total_params = sum(p.numel() for p in loaded_model.parameters())\r\n",
        "  print(model + \" Number params:\" + str(pytorch_total_params))\r\n"
      ],
      "execution_count": null,
      "outputs": []
    },
    {
      "cell_type": "markdown",
      "metadata": {
        "id": "bU_5zpuhXOj7"
      },
      "source": [
        "## Results"
      ]
    },
    {
      "cell_type": "code",
      "metadata": {
        "id": "0YgtIpjzh_TV"
      },
      "source": [
        "20 epoch models\r\n",
        "alexnet       top1 - 0.659    top5 - 0.8805\r\n",
        "squeezenet    top1 - 0.6595   top5 - 0.87925\r\n",
        "vgg11           top1 - 0.72425  top5 - 0.909\r\n",
        "vgg11_norm top1 - 0.69725  top5 - 0.89175\r\n",
        "vgg19         top1 - 0.73825  top5 - 0.924\r\n",
        "vgg19_norm top1 - 0.721  top5 - 0.9055\r\n",
        "shufflenet    top1 - 0.168    top5 - 0.392\r\n",
        "mobilenet     top1 - 0.729    top5 - 0.91475\r\n",
        "mnasnet       top1 - 0.7205   top5 - 0.92075\r\n",
        "googlenet     top1 - 0.7175   top5 - 0.91875\r\n",
        "resnet        top1 - 0.735    top5 - 0.923\r\n",
        "resnet101 top1 - 0.7575  top5 - 0.93025\r\n",
        "resnet152     top1 - 0.7655  top5 - 0.93575\r\n",
        "resnext       top1 - 0.7555   top5 - 0.94\r\n",
        "resnext101 top1 - 0.777  top5 - 0.9452\r\n",
        "wideresnet    top1 - 0.76525  top5 - 0.93525\r\n",
        "wideresnet101 top1 - 0.766  top5 - 0.9425\r\n",
        "densenet      top1 - 0.75175  top5 - 0.93375\r\n",
        "densenet161 top1 - 0.77  top5 - 0.9375\r\n",
        "densenet201   top1 - 0.771  top5 - 0.94025"
      ],
      "execution_count": null,
      "outputs": []
    },
    {
      "cell_type": "markdown",
      "metadata": {
        "id": "RX1HxT3ZXIVP"
      },
      "source": [
        "# Other\r\n",
        "\r\n",
        "Due to page and time constraints, confusions not plotted but functions are below"
      ]
    },
    {
      "cell_type": "code",
      "metadata": {
        "id": "6Y2s0XsYW53b"
      },
      "source": [
        "#returns an array of all the label names\r\n",
        "def getLabels():\r\n",
        "  root_dir = \"png/\"\r\n",
        "  arr = []\r\n",
        "  #for each class type\r\n",
        "  for classType in sorted(os.listdir(root_dir)):\r\n",
        "      #if already created, skip\r\n",
        "      if os.path.isfile(root_dir + classType):\r\n",
        "          continue\r\n",
        "     \r\n",
        "      arr.append(classType)\r\n",
        "  return arr\r\n",
        "labels = getLabels()"
      ],
      "execution_count": null,
      "outputs": []
    },
    {
      "cell_type": "code",
      "metadata": {
        "id": "ZfSo3Iw9W8Ar"
      },
      "source": [
        "# Given index of class and image idx within that class, return the image\r\n",
        "# Usage showImg(classIdx, imgIdx)\r\n",
        "def showImg(classIdxToFind, imgIdxToFind):\r\n",
        "  root_dir = \"png224/\"\r\n",
        "  arr = []\r\n",
        "  classIdx = 0\r\n",
        "  #for each class type\r\n",
        "  for classType in sorted(os.listdir(root_dir)):\r\n",
        "      #if already created, skip\r\n",
        "      if os.path.isfile(root_dir + classType):\r\n",
        "          continue\r\n",
        "      if (classIdx == classIdxToFind):\r\n",
        "        imgIdx = 0\r\n",
        "        label_path = root_dir + classType + '/'\r\n",
        "        for im_file in sorted(os.listdir(label_path)):\r\n",
        "          if (imgIdx == imgIdxToFind):\r\n",
        "            img = PIL.Image.open(label_path + im_file)\r\n",
        "\r\n",
        "            grayscale_image = img.convert(\"L\")\r\n",
        "            grayscale_array = np.asarray(grayscale_image)\r\n",
        "            plt.imshow(grayscale_array, cmap=\"gray\")\r\n",
        "            plt.axis('off')\r\n",
        "\r\n",
        "            plt.title(classType + \" ({})\".format(im_file))\r\n",
        "          imgIdx += 1\r\n",
        "      classIdx += 1\r\n",
        "  return arr"
      ],
      "execution_count": null,
      "outputs": []
    },
    {
      "cell_type": "code",
      "metadata": {
        "id": "LKdfdzsr6-Lo"
      },
      "source": [
        "# 241=violin, 95=guitar\n",
        "# Check which models predict what for test set\n",
        "def check_for(model_in, classIdx):\n",
        "  ##print tensor of class idx\n",
        "  classIdx = 241\n",
        "  i = 0\n",
        "  model_in.eval()\n",
        "  for inputs, labels in dataloaders_dict['test']:\n",
        "    inputs = inputs.cuda()\n",
        "    if (classIdx != i):\n",
        "      i += 1\n",
        "      continue\n",
        "    output = model_in(inputs)\n",
        "    _, preds = torch.max(output, 1)\n",
        "    print(preds)\n",
        "    break\n",
        "\n",
        "for model in model_types_to_train:\n",
        "  loaded_model = torch.load('models/pretrained_224Model_{}.pth'.format(model))\n",
        "  loaded_model.eval()\n",
        "  print(model)\n",
        "  check_for(loaded_model, 241)"
      ],
      "execution_count": null,
      "outputs": []
    }
  ]
}
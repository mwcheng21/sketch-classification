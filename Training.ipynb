{
  "nbformat": 4,
  "nbformat_minor": 0,
  "metadata": {
    "colab": {
      "name": "Training.ipynb",
      "provenance": [],
      "collapsed_sections": [],
      "toc_visible": true
    },
    "kernelspec": {
      "display_name": "Python 3",
      "name": "python3"
    },
    "accelerator": "GPU"
  },
  "cells": [
    {
      "cell_type": "markdown",
      "metadata": {
        "id": "0hLVE8ncIxFl"
      },
      "source": [
        "Dataloaders, training models, and evaluation"
      ]
    },
    {
      "cell_type": "code",
      "metadata": {
        "colab": {
          "base_uri": "https://localhost:8080/"
        },
        "id": "Jl3JhwRH-IHw",
        "outputId": "202ed628-f4ae-4b8b-9f3c-78aaf0607a47"
      },
      "source": [
        "# Mount Drive \n",
        "from google.colab import drive\n",
        "\n",
        "drive.mount('/content/gdrive')\n",
        "\n",
        "\n",
        "#Change to the correct directory\n",
        "import os\n",
        "os.chdir('/content/gdrive/My Drive/junior/442')\n",
        "\n",
        "!ls\n",
        "!pwd\n",
        "\n",
        "\n",
        "#Make imports\n",
        "import torch\n",
        "import torch.nn as nn\n",
        "import torch.optim as optim\n",
        "from torch.autograd import Variable\n",
        "from torchvision import datasets, models, transforms\n",
        "from PIL import Image\n",
        "import numpy as np\n",
        "import os\n",
        "import numpy as np\n",
        "import PIL\n",
        "from PIL import Image\n",
        "import cv2 as cv\n",
        "from cv2 import imread\n",
        "import time\n",
        "import copy\n",
        "\n",
        "\n",
        "# Detect if we have a GPU available\n",
        "device = torch.device(\"cuda:0\" if torch.cuda.is_available() else \"cpu\")\n",
        "if torch.cuda.is_available():\n",
        "    print(\"Using the GPU!\")\n",
        "else:\n",
        "    print(\"WARNING: Could not find GPU! Using CPU only. If you want to enable GPU, please to go Edit > Notebook Settings > Hardware Accelerator and select GPU.\")\n"
      ],
      "execution_count": null,
      "outputs": [
        {
          "output_type": "stream",
          "text": [
            "Mounted at /content/gdrive\n",
            "'Colab Notebooks'   png   png224   png224output\n",
            "/content/gdrive/My Drive/junior/442\n",
            "Using the GPU!\n"
          ],
          "name": "stdout"
        }
      ]
    },
    {
      "cell_type": "code",
      "metadata": {
        "id": "COK6SC10Art6"
      },
      "source": [
        "# Double check done the files are correctly mounted\r\n",
        "\r\n",
        "\r\n",
        "#should all be 250\r\n",
        "!ls -l ./png | grep \"^d\" | wc -l\r\n",
        "!ls -l ./png224 | grep \"^d\" | wc -l\r\n",
        "!ls -l ./png224output/train | grep \"^d\" | wc -l\r\n",
        "!ls -l ./png224output/test | grep \"^d\" | wc -l\r\n",
        "!ls -l ./png224output/val | grep \"^d\" | wc -l\r\n",
        "\r\n",
        "# 48 16 16\r\n",
        "!ls -l ./png224output/train/airplane | egrep -c '^-'\r\n",
        "!ls -l ./png224output/test/airplane | egrep -c '^-'\r\n",
        "!ls -l ./png224output/val/airplane | egrep -c '^-'\r\n",
        "\r\n",
        "# all 80\r\n",
        "!ls -l ./png224/airplane | egrep -c '^-'\r\n",
        "!ls -l ./png224/zebra | egrep -c '^-'\r\n",
        "!ls -l ./png/zebra | egrep -c '^-'\r\n",
        "!ls -l ./png/airplane | egrep -c '^-'"
      ],
      "execution_count": null,
      "outputs": []
    },
    {
      "cell_type": "markdown",
      "metadata": {
        "id": "6CW_JWOaRH41"
      },
      "source": [
        "#Dataloaders#"
      ]
    },
    {
      "cell_type": "code",
      "metadata": {
        "id": "DL7Vf7qXdk5Z"
      },
      "source": [
        "def get_dataloaders(input_size, batch_size, shuffle = True):\n",
        "    '''\n",
        "    Build dataloaders with transformations. \n",
        "\n",
        "    Args:\n",
        "        input_size: int, the size of the tranformed images\n",
        "        batch_size: int, minibatch size for dataloading\n",
        "\n",
        "    Returns:\n",
        "        dataloader_dict: dict, dict with \"train\", \"val\", \"test\" keys, each is mapped to a pytorch dataloader.\n",
        "\n",
        "    '''\n",
        "\n",
        "    mean = [0.485, 0.456, 0.406]\n",
        "    std = [0.229, 0.224, 0.225]\n",
        "\n",
        "    composed_transform =  transforms.Compose([\n",
        "        transforms.Resize(input_size),\n",
        "        transforms.ToTensor(),\n",
        "        transforms.Normalize(mean=mean, std=std)\n",
        "    ])\n",
        "\n",
        "    data_transforms = {\n",
        "        'train': composed_transform,\n",
        "        'val': composed_transform,\n",
        "        'test': composed_transform\n",
        "    }\n",
        "    data_dir = \"png224output/\"\n",
        "    image_datasets = {x: datasets.ImageFolder(os.path.join(data_dir, x), data_transforms[x]) for x in data_transforms.keys()}\n",
        "\n",
        "    # Create training train/val/test dataloaders\n",
        "    # Never shuffle the val and test datasets\n",
        "    dataloaders_dict = {x: torch.utils.data.DataLoader(image_datasets[x], batch_size=batch_size, shuffle=False if x != 'train' else shuffle, num_workers=2) for x in data_transforms.keys()}\n",
        "    \n",
        "\n",
        "\n",
        "    return dataloaders_dict"
      ],
      "execution_count": null,
      "outputs": []
    },
    {
      "cell_type": "code",
      "metadata": {
        "colab": {
          "base_uri": "https://localhost:8080/"
        },
        "id": "kKmaxzTyXdfv",
        "outputId": "18feed0f-dc28-4920-c6d1-b119d050ebaf"
      },
      "source": [
        "batch_size = 16\n",
        "input_size = 224\n",
        "dataloaders_dict = get_dataloaders(input_size, batch_size)\n",
        "\n",
        "# Confirm your train/val/test sets contain 12,000/4000/4000 samples\n",
        "print('# of training samples {}'.format(len(dataloaders_dict['train'].dataset))) \n",
        "print('# of validation samples {}'.format(len(dataloaders_dict['val'].dataset)))  \n",
        "print('# of test samples {}'.format(len(dataloaders_dict['test'].dataset))) "
      ],
      "execution_count": null,
      "outputs": [
        {
          "output_type": "stream",
          "text": [
            "# of training samples 12000\n",
            "# of validation samples 4000\n",
            "# of test samples 4000\n"
          ],
          "name": "stdout"
        }
      ]
    },
    {
      "cell_type": "code",
      "metadata": {
        "id": "LFhTJkp0q4-y"
      },
      "source": [
        "# from https://pytorch.org/tutorials/beginner/finetuning_torchvision_models_tutorial.html\n",
        "# Will load a given pretrained model\n",
        "def initialize_model(model_name, num_classes, feature_extract, use_pretrained=True):\n",
        "    # Initialize these variables which will be set in this if statement. Each of these\n",
        "    #   variables is model specific.\n",
        "    model_ft = None\n",
        "    input_size = 0\n",
        "\n",
        "    if model_name == \"resnet\":\n",
        "        \"\"\" Resnet18\n",
        "        \"\"\"\n",
        "        model_ft = models.resnet18(pretrained=use_pretrained)\n",
        "        set_parameter_requires_grad(model_ft, feature_extract)\n",
        "        num_ftrs = model_ft.fc.in_features\n",
        "        model_ft.fc = nn.Linear(num_ftrs, num_classes)\n",
        "        input_size = 224\n",
        "\n",
        "    elif model_name == \"alexnet\":\n",
        "        \"\"\" Alexnet\n",
        "        \"\"\"\n",
        "        model_ft = models.alexnet(pretrained=use_pretrained)\n",
        "        set_parameter_requires_grad(model_ft, feature_extract)\n",
        "        num_ftrs = model_ft.classifier[6].in_features\n",
        "        model_ft.classifier[6] = nn.Linear(num_ftrs,num_classes)\n",
        "        input_size = 224\n",
        "\n",
        "    elif model_name == \"vgg\":\n",
        "        \"\"\" VGG11_bn\n",
        "        \"\"\"\n",
        "        model_ft = models.vgg11_bn(pretrained=use_pretrained)\n",
        "        set_parameter_requires_grad(model_ft, feature_extract)\n",
        "        num_ftrs = model_ft.classifier[6].in_features\n",
        "        model_ft.classifier[6] = nn.Linear(num_ftrs,num_classes)\n",
        "        input_size = 224\n",
        "\n",
        "    elif model_name == \"squeezenet\":\n",
        "        \"\"\" Squeezenet\n",
        "        \"\"\"\n",
        "        model_ft = models.squeezenet1_0(pretrained=use_pretrained)\n",
        "        set_parameter_requires_grad(model_ft, feature_extract)\n",
        "        model_ft.classifier[1] = nn.Conv2d(512, num_classes, kernel_size=(1,1), stride=(1,1))\n",
        "        model_ft.num_classes = num_classes\n",
        "        input_size = 224\n",
        "\n",
        "    elif model_name == \"densenet\":\n",
        "        \"\"\" Densenet\n",
        "        \"\"\"\n",
        "        model_ft = models.densenet121(pretrained=use_pretrained)\n",
        "        set_parameter_requires_grad(model_ft, feature_extract)\n",
        "        num_ftrs = model_ft.classifier.in_features\n",
        "        model_ft.classifier = nn.Linear(num_ftrs, num_classes)\n",
        "        input_size = 224\n",
        "\n",
        "    elif model_name == \"inception\":\n",
        "        \"\"\" Inception v3\n",
        "        Be careful, expects (299,299) sized images and has auxiliary output\n",
        "        \"\"\"\n",
        "        model_ft = models.inception_v3(pretrained=use_pretrained)\n",
        "        set_parameter_requires_grad(model_ft, feature_extract)\n",
        "        # Handle the auxilary net\n",
        "        num_ftrs = model_ft.AuxLogits.fc.in_features\n",
        "        model_ft.AuxLogits.fc = nn.Linear(num_ftrs, num_classes)\n",
        "        # Handle the primary net\n",
        "        num_ftrs = model_ft.fc.in_features\n",
        "        model_ft.fc = nn.Linear(num_ftrs,num_classes)\n",
        "        input_size = 299\n",
        "\n",
        "    else:\n",
        "        print(\"Invalid model name, exiting...\")\n",
        "        exit()\n",
        "\n",
        "    return model_ft, input_size\n",
        "\n",
        "def set_parameter_requires_grad(model, feature_extracting):\n",
        "    if feature_extracting:\n",
        "        for param in model.parameters():\n",
        "            param.requires_grad = False"
      ],
      "execution_count": null,
      "outputs": []
    },
    {
      "cell_type": "markdown",
      "metadata": {
        "id": "N08bfbWqJMf4"
      },
      "source": [
        "#Training#"
      ]
    },
    {
      "cell_type": "code",
      "metadata": {
        "id": "7SHlqyoRsTov"
      },
      "source": [
        "# Train a input model\n",
        "def train_model(model, dataloaders, criterion, optimizer, num_epochs=25, is_inception=False):\n",
        "    since = time.time()\n",
        "\n",
        "    val_acc_history = []\n",
        "    test_acc_history = []\n",
        "  \n",
        "    best_model_wts = copy.deepcopy(model.state_dict())\n",
        "    best_acc = 0.0\n",
        "\n",
        "    for epoch in range(num_epochs):\n",
        "        print('Epoch {}/{}'.format(epoch, num_epochs - 1))\n",
        "        print('-' * 10)\n",
        "\n",
        "        # Each epoch has a training and validation phase\n",
        "        for phase in ['train', 'val']:\n",
        "            if phase == 'train':\n",
        "                model.train()  # Set model to training mode\n",
        "            else:\n",
        "                model.eval()   # Set model to evaluate mode\n",
        "\n",
        "            running_loss = 0.0\n",
        "            running_corrects = 0\n",
        "\n",
        "            # Iterate over data.\n",
        "            for inputs, labels in dataloaders[phase]:\n",
        "                inputs = inputs.to(device)\n",
        "                labels = labels.to(device)\n",
        "\n",
        "                # zero the parameter gradients\n",
        "                optimizer.zero_grad()\n",
        "\n",
        "                # forward\n",
        "                # track history if only in train\n",
        "                with torch.set_grad_enabled(phase == 'train'):\n",
        "                    # Get model outputs and calculate loss\n",
        "                    # Special case for inception because in training it has an auxiliary output. In train\n",
        "                    #   mode we calculate the loss by summing the final output and the auxiliary output\n",
        "                    #   but in testing we only consider the final output.\n",
        "                    if is_inception and phase == 'train':\n",
        "                        # From https://discuss.pytorch.org/t/how-to-optimize-inception-model-with-auxiliary-classifiers/7958\n",
        "                        outputs, aux_outputs = model(inputs)\n",
        "                        loss1 = criterion(outputs, labels)\n",
        "                        loss2 = criterion(aux_outputs, labels)\n",
        "                        loss = loss1 + 0.4*loss2\n",
        "                    else:\n",
        "                        outputs = model(inputs)\n",
        "                        loss = criterion(outputs, labels)\n",
        "\n",
        "                    _, preds = torch.max(outputs, 1)\n",
        "\n",
        "                    # backward + optimize only if in training phase\n",
        "                    if phase == 'train':\n",
        "                        loss.backward()\n",
        "                        optimizer.step()\n",
        "\n",
        "                # statistics\n",
        "                running_loss += loss.item() * inputs.size(0)\n",
        "                running_corrects += torch.sum(preds == labels.data)\n",
        "\n",
        "            epoch_loss = running_loss / len(dataloaders[phase].dataset)\n",
        "            epoch_acc = running_corrects.double() / len(dataloaders[phase].dataset)\n",
        "\n",
        "            print('{} Loss: {:.4f} Acc: {:.4f}'.format(phase, epoch_loss, epoch_acc))\n",
        "\n",
        "            # deep copy the model\n",
        "            if phase == 'val' and epoch_acc > best_acc:\n",
        "                best_acc = epoch_acc\n",
        "                best_model_wts = copy.deepcopy(model.state_dict())\n",
        "            if phase == 'val':\n",
        "                val_acc_history.append(epoch_acc)\n",
        "            elif phase == 'test':\n",
        "              test_acc_history.append(epoch_acc)\n",
        "\n",
        "        print()\n",
        "\n",
        "    time_elapsed = time.time() - since\n",
        "    print('Training complete in {:.0f}m {:.0f}s'.format(time_elapsed // 60, time_elapsed % 60))\n",
        "    print('Best val Acc: {:4f}'.format(best_acc))\n",
        "\n",
        "    # load best model weights\n",
        "    model.load_state_dict(best_model_wts)\n",
        "    return model, val_acc_history, test_acc_history"
      ],
      "execution_count": null,
      "outputs": []
    },
    {
      "cell_type": "code",
      "metadata": {
        "id": "0OviwC6OJZLR"
      },
      "source": [
        "def train_given_model(model_name, pretrained=True):\n",
        "  \"\"\" Driver for training a model\n",
        "\n",
        "    Args:\n",
        "        model_name: str, \"densenet\", \"resnet\", \"alexnet\", \"vgg\", \"squeezenet\"\n",
        "\n",
        "    Returns:\n",
        "        models saved to models/224stateDict_<model_name>.pth\n",
        "  \"\"\"\n",
        "  num_classes = 250\n",
        "  # Flag for feature extracting. When False, we finetune the whole model,\n",
        "  #   when True we only update the reshaped layer params\n",
        "  feature_extract = False\n",
        "  # Initialize the model for this run\n",
        "  model_ft, input_size = initialize_model(model_name, num_classes, feature_extract, use_pretrained=pretrained)\n",
        "\n",
        "  # Print the model we just instantiated\n",
        "  print(model_ft)\n",
        "\n",
        "\n",
        "  # Send the model to GPU\n",
        "  model_ft = model_ft.to(device)\n",
        "\n",
        "  # Gather the parameters to be optimized/updated in this run. If we are\n",
        "  #  finetuning we will be updating all parameters. However, if we are\n",
        "  #  doing feature extract method, we will only update the parameters\n",
        "  #  that we have just initialized, i.e. the parameters with requires_grad\n",
        "  #  is True.\n",
        "  params_to_update = model_ft.parameters()\n",
        "  print(\"Params to learn:\")\n",
        "  if feature_extract:\n",
        "      params_to_update = []\n",
        "      for name,param in model_ft.named_parameters():\n",
        "          if param.requires_grad == True:\n",
        "              params_to_update.append(param)\n",
        "              print(\"\\t\",name)\n",
        "  else:\n",
        "      for name,param in model_ft.named_parameters():\n",
        "          if param.requires_grad == True:\n",
        "              print(\"\\t\",name)\n",
        "\n",
        "  # Observe that all parameters are being optimized\n",
        "  optimizer_ft = optim.SGD(params_to_update, lr=0.001, momentum=0.9)\n",
        "\n",
        "\n",
        "  # Setup the loss fxn\n",
        "  criterion = nn.CrossEntropyLoss()\n",
        "  num_epochs = 20\n",
        "\n",
        "  # Train model\n",
        "  model_ft, val_hist, train_hist = train_model(model_ft, dataloaders_dict, criterion, optimizer_ft, num_epochs=num_epochs, is_inception=(model_name==\"inception\"))\n",
        "\n",
        "  addition= \"pretrained\" if pretrained else \"untrained\"\n",
        "  # Save model\n",
        "  torch.save(model_ft.state_dict(), 'models/{}_224stateDict_{}.pth'.format(addition, model_name))\n",
        "  torch.save(model_ft, 'models/{}_224Model_{}.pth'.format(addition, model_name))\n",
        "  torch.save(train_hist, 'models/{}_224train_Hist_{}.pth'.format(addition, model_name))\n",
        "  torch.save(val_hist, 'models/{}_224val_Hist_{}.pth'.format(addition, model_name))\n",
        "\n",
        "\n"
      ],
      "execution_count": null,
      "outputs": []
    },
    {
      "cell_type": "code",
      "metadata": {
        "id": "3R8AeDmmfApT"
      },
      "source": [
        "#!mkdir models\r\n",
        "#Train all the models\r\n",
        "model_types_to_train = [\"alexnet\", \"vgg\", \"squeezenet\", \"densenet\", \"resnet\"]"
      ],
      "execution_count": null,
      "outputs": []
    },
    {
      "cell_type": "code",
      "metadata": {
        "id": "oNkeMHbS4whe"
      },
      "source": [
        "\n",
        "for model in model_types_to_train:\n",
        "  train_given_model(model)\n",
        "\n",
        "#Pretraining would take too long\n",
        "#for model in model_types_to_train:\n",
        "#  train_given_model(model, pretrained=False)"
      ],
      "execution_count": null,
      "outputs": []
    },
    {
      "cell_type": "markdown",
      "metadata": {
        "id": "dtgV6hejJMoH"
      },
      "source": [
        "#Evaluation#"
      ]
    },
    {
      "cell_type": "code",
      "metadata": {
        "id": "8z4CGrGqzB_-"
      },
      "source": [
        "def test(model, dataloader, topk):\n",
        "    model.eval()\n",
        "    cor = 0\n",
        "    accPerClass = []\n",
        "    for inputs, labels in dataloader:\n",
        "      labels = labels.cuda()\n",
        "      inputs = inputs.cuda()\n",
        "      output = model(inputs)\n",
        "      _, preds = torch.topk(output, topk, 1)\n",
        "      preds = preds.cuda()\n",
        "      numCorrectThisOne = 0\n",
        "      for idx in range(len(preds)):\n",
        "        if (labels[idx] in preds[idx]):\n",
        "          numCorrectThisOne += 1\n",
        "          cor += 1\n",
        "      accPerClass.append(numCorrectThisOne/16)\n",
        "    #print('accuracy of {}%'.format(cor/4000))\n",
        "    return accPerClass, cor/4000\n"
      ],
      "execution_count": null,
      "outputs": []
    },
    {
      "cell_type": "code",
      "metadata": {
        "id": "8QypSYZmXqpw"
      },
      "source": [
        "# Evaluate models top 1\r\n",
        "for model in model_types_to_train:\r\n",
        "  loaded_model = torch.load('models/pretrained_224Model_{}.pth'.format(model))\r\n",
        "  loaded_model.eval()\r\n",
        "  print(model)\r\n",
        "  accuracies, acc1 = test(loaded_model, dataloaders_dict['test'], 1)\r\n",
        "  accuracies, acc2 = test(loaded_model, dataloaders_dict['test'], 5)\r\n",
        "  print(\"top1 - \" + str(acc1) + \"  top5 - \" + str(acc2))\r\n",
        "\r\n",
        "  #compare to 15 epoch\r\n",
        "  loaded_model = torch.load('models/15_pretrained_224Model_{}.pth'.format(model))\r\n",
        "  loaded_model.eval()\r\n",
        "  print(\"15 epoch:\")\r\n",
        "  accuracies, acc1 = test(loaded_model, dataloaders_dict['test'], 1)\r\n",
        "  accuracies, acc2 = test(loaded_model, dataloaders_dict['test'], 5)\r\n",
        "  print(\"top1 - \" + str(acc1) + \"  top5 - \" + str(acc2))\r\n",
        "\r\n",
        "\r\n"
      ],
      "execution_count": null,
      "outputs": []
    },
    {
      "cell_type": "code",
      "metadata": {
        "id": "0YgtIpjzh_TV"
      },
      "source": [
        "20 epoch models\r\n",
        "alexnet     top1:0.6685  top5:0.886\r\n",
        "vgg         top1:0.727   top5:0.9105\r\n",
        "squeezenet  top1:0.664   top5:0.8765\r\n",
        "densenet    top1:0.7515  top5:0.92975\r\n",
        "resnet      top1:0.72625 top5:0.91725\r\n",
        "\r\n",
        "15 epoch models\r\n",
        "alexnet     top1:0.66125 top5:0.874\r\n",
        "vgg         top1:0.72875 top5:0.92075\r\n",
        "squeezenet  top1:0.6585  top5:0.87\r\n",
        "densenet    top1:0.75325 top5:0.93\r\n",
        "resnet      top1:0.72875 top5:0.92075\r\n"
      ],
      "execution_count": null,
      "outputs": []
    },
    {
      "cell_type": "code",
      "metadata": {
        "colab": {
          "base_uri": "https://localhost:8080/"
        },
        "id": "LKdfdzsr6-Lo",
        "outputId": "59dd2011-df7d-49ef-b556-b4bb81135081"
      },
      "source": [
        "# 241=violin, 95=guitar\n",
        "# Check which models predict what for test set\n",
        "def check_for(model_in, classIdx):\n",
        "  ##print tensor of class idx\n",
        "  classIdx = 241\n",
        "  i = 0\n",
        "  model_in.eval()\n",
        "  for inputs, labels in dataloaders_dict['test']:\n",
        "    inputs = inputs.cuda()\n",
        "    if (classIdx != i):\n",
        "      i += 1\n",
        "      continue\n",
        "    output = model_in(inputs)\n",
        "    _, preds = torch.max(output, 1)\n",
        "    print(preds)\n",
        "    break\n",
        "\n",
        "for model in model_types_to_train:\n",
        "  loaded_model = torch.load('models/pretrained_224Model_{}.pth'.format(model))\n",
        "  loaded_model.eval()\n",
        "  print(model)\n",
        "  check_for(loaded_model, 241)"
      ],
      "execution_count": null,
      "outputs": [
        {
          "output_type": "stream",
          "text": [
            "alexnet\n",
            "tensor([241,  95,  95, 241,  95, 241, 241, 241,  95, 241, 133, 241, 241, 241,\n",
            "         95, 241], device='cuda:0')\n",
            "vgg\n",
            "tensor([241,  95,  95,  95, 241, 241, 241, 241, 241, 241, 241, 241,  31, 241,\n",
            "         95, 241], device='cuda:0')\n",
            "squeezenet\n",
            "tensor([241, 241,  95, 240,  95,  95, 241, 241,  95, 241, 241, 241, 236, 118,\n",
            "         95, 241], device='cuda:0')\n",
            "densenet\n",
            "tensor([241,  95,  95,  95,  95, 241, 115, 241,  95, 241, 241, 241, 241,  98,\n",
            "         95, 241], device='cuda:0')\n",
            "resnet\n",
            "tensor([241,  95,  95,  95,  95, 241, 241, 241,  95, 241, 241, 241, 241, 241,\n",
            "         95, 241], device='cuda:0')\n"
          ],
          "name": "stdout"
        }
      ]
    }
  ]
}
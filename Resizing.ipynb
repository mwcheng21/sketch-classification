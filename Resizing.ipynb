{
  "nbformat": 4,
  "nbformat_minor": 0,
  "metadata": {
    "colab": {
      "name": "Resizing",
      "provenance": [],
      "collapsed_sections": []
    },
    "kernelspec": {
      "name": "python3",
      "display_name": "Python 3"
    },
    "accelerator": "GPU"
  },
  "cells": [
    {
      "cell_type": "markdown",
      "metadata": {
        "id": "glBGW9vNU4lv"
      },
      "source": [
        "Resize Images to desired size"
      ]
    },
    {
      "cell_type": "code",
      "metadata": {
        "id": "rZRA9erdVn9v"
      },
      "source": [
        "image_size = 224"
      ],
      "execution_count": 1,
      "outputs": []
    },
    {
      "cell_type": "code",
      "metadata": {
        "id": "lfhC5gDyUlHH",
        "colab": {
          "base_uri": "https://localhost:8080/"
        },
        "outputId": "a6a8a48d-c154-4a85-f00b-3849455ad049"
      },
      "source": [
        "# Mount Drive \r\n",
        "from google.colab import drive\r\n",
        "\r\n",
        "drive.mount('/content/gdrive')\r\n",
        "\r\n",
        "\r\n",
        "#Change to the correct directory\r\n",
        "import os\r\n",
        "os.chdir('/content/gdrive/My Drive/junior/442')\r\n",
        "\r\n",
        "!ls\r\n",
        "!pwd\r\n",
        "\r\n",
        "\r\n",
        "#Make imports\r\n",
        "import torch\r\n",
        "import torch.nn as nn\r\n",
        "import torch.optim as optim\r\n",
        "from torch.autograd import Variable\r\n",
        "from torchvision import datasets, models, transforms\r\n",
        "from PIL import Image\r\n",
        "import numpy as np\r\n",
        "import os\r\n",
        "import numpy as np\r\n",
        "import PIL\r\n",
        "from PIL import Image\r\n",
        "import cv2 as cv\r\n",
        "from cv2 import imread\r\n",
        "import time\r\n",
        "import copy\r\n",
        "\r\n",
        "\r\n",
        "# Detect if we have a GPU available\r\n",
        "device = torch.device(\"cuda:0\" if torch.cuda.is_available() else \"cpu\")\r\n",
        "if torch.cuda.is_available():\r\n",
        "    print(\"Using the GPU!\")\r\n",
        "else:\r\n",
        "    print(\"WARNING: Could not find GPU! Using CPU only. If you want to enable GPU, please to go Edit > Notebook Settings > Hardware Accelerator and select GPU.\")\r\n"
      ],
      "execution_count": 2,
      "outputs": [
        {
          "output_type": "stream",
          "text": [
            "Mounted at /content/gdrive\n",
            "'Colab Notebooks'   png   png224   sketches_png.zip\n",
            "/content/gdrive/My Drive/junior/442\n",
            "Using the GPU!\n"
          ],
          "name": "stdout"
        }
      ]
    },
    {
      "cell_type": "code",
      "metadata": {
        "id": "2KdwerT2VDHf"
      },
      "source": [
        "#!wget http://cybertron.cg.tu-berlin.de/eitz/projects/classifysketch/sketches_png.zip\r\n",
        "!rm -r png\r\n",
        "!unzip sketches_png.zip && rm sketches_png.zip"
      ],
      "execution_count": null,
      "outputs": []
    },
    {
      "cell_type": "code",
      "metadata": {
        "id": "P4CyH8vBVIMY"
      },
      "source": [
        "# The following 3 funtions are adapted from https://github.com/wayneb0t/sketch-recognition\r\n",
        "\r\n",
        "def load_image(path):\r\n",
        "  \"\"\"\r\n",
        "  Load images from the given path\r\n",
        "  \"\"\"\r\n",
        "  im_data = imread(path, cv.IMREAD_GRAYSCALE)\r\n",
        "  return im_data\r\n",
        "\r\n",
        "def resize_images(res=128):\r\n",
        "  \"\"\"\r\n",
        "  Resize all images into a res x res img (default is 128x128)\r\n",
        "  \"\"\"\r\n",
        "  root_dir = \"png/\"\r\n",
        "  new_dir = \"png{}/\".format(res)\r\n",
        "  try:\r\n",
        "      os.mkdir(new_dir, 755)\r\n",
        "  except:\r\n",
        "      pass\r\n",
        "  #for each class type\r\n",
        "  for classType in sorted(os.listdir(root_dir)):\r\n",
        "      #if already created, skip\r\n",
        "      if os.path.isfile(root_dir + classType):\r\n",
        "          continue\r\n",
        "     \r\n",
        "      label_path = root_dir + classType + \"/\"\r\n",
        "      new_path = new_dir + classType + \"/\"\r\n",
        "      \r\n",
        "      try:\r\n",
        "          os.mkdir(new_path, 755)\r\n",
        "      except:\r\n",
        "          pass\r\n",
        "      #For each file in class\r\n",
        "      for im_file in os.listdir(label_path):\r\n",
        "          im_path = label_path + im_file\r\n",
        "          new_im_path = new_path + im_file\r\n",
        "          \r\n",
        "          img = Image.open(im_path)\r\n",
        "          img = img.resize((res, res), PIL.Image.BILINEAR)\r\n",
        "          img.save(new_im_path)\r\n",
        "          img.close()\r\n",
        "\r\n",
        "def move_data(num_classes=250, res=128, saveFile=False):\r\n",
        "    \"\"\"\r\n",
        "    Generates the datasets with 128 (or 64) training examples, 8 validation examples,\r\n",
        "    and 8 testing examples per class.\r\n",
        "    \r\n",
        "    Args:\r\n",
        "        num_classes: the number of classes to load (for smaller datasets)\r\n",
        "        res: the resolution of the output arrays (N x res x res)\r\n",
        "        flip: whether or not to generate additional training examples by horizontally\r\n",
        "              flipping the provided images\r\n",
        "        color_invert: whether or not to invert B&W values\r\n",
        "    \"\"\"\r\n",
        "    root_dir = \"png{}/\".format(\"\" if res is None else res)\r\n",
        "    output_dir = \"png{}output/\".format(\"\" if res is None else res)\r\n",
        "    num_train = 48\r\n",
        "    num_val = 16\r\n",
        "    num_test = 16\r\n",
        "    \r\n",
        "    labels = []\r\n",
        "    \r\n",
        "    X_train = np.zeros((num_classes * num_train, res, res, 1), dtype=np.float32)\r\n",
        "    y_train = np.repeat(np.arange(num_classes), num_train)\r\n",
        "    \r\n",
        "    X_val = np.zeros((num_classes * num_val, res, res, 1), dtype=np.float32)\r\n",
        "    y_val = np.repeat(np.arange(num_classes), num_val)\r\n",
        "    \r\n",
        "    X_test = np.zeros((num_classes * num_test, res, res, 1), dtype=np.float32)\r\n",
        "    y_test = np.repeat(np.arange(num_classes), num_test)\r\n",
        "    \r\n",
        "    classes = 0\r\n",
        "    train_index = 0\r\n",
        "    val_index = 0\r\n",
        "    test_index = 0\r\n",
        "    \r\n",
        "    for node in sorted(os.listdir(root_dir)):\r\n",
        "        if os.path.isfile(root_dir + node):\r\n",
        "            continue\r\n",
        "        \r\n",
        "        labels.append(node)\r\n",
        "        label_path = root_dir + node + \"/\"\r\n",
        "        \r\n",
        "        num_images = 0\r\n",
        "        for im_file in sorted(os.listdir(label_path)):\r\n",
        "            im_data = load_image(label_path + im_file).reshape(res, res, 1)\r\n",
        "            \r\n",
        "            if num_images < num_train:\r\n",
        "                typeStr = \"train\"\r\n",
        "                X_train[train_index] = im_data\r\n",
        "                train_index += 1\r\n",
        "                    \r\n",
        "            elif num_images < num_train + num_val:\r\n",
        "                X_val[val_index] = im_data\r\n",
        "                typeStr = \"val\"\r\n",
        "                val_index += 1\r\n",
        "            else:\r\n",
        "                X_test[test_index] = im_data\r\n",
        "                typeStr = \"test\"\r\n",
        "                test_index += 1\r\n",
        "\r\n",
        "            if (saveFile):\r\n",
        "              im_path = label_path + im_file\r\n",
        "              new_im_path = output_dir + typeStr + \"/\" + node + '/' + im_file\r\n",
        "              try:\r\n",
        "                  os.mkdir(output_dir, 755)\r\n",
        "              except:\r\n",
        "                  pass\r\n",
        "              try:\r\n",
        "                  os.mkdir(output_dir + typeStr + \"/\", 755)\r\n",
        "              except:\r\n",
        "                  pass\r\n",
        "              try:\r\n",
        "                  os.mkdir(output_dir + typeStr + \"/\" + node + '/', 755)\r\n",
        "              except:\r\n",
        "                  pass\r\n",
        "              img = Image.open(im_path)\r\n",
        "              img = img.resize((res, res), PIL.Image.BILINEAR)\r\n",
        "              img.save(new_im_path)\r\n",
        "              img.close()\r\n",
        "\r\n",
        "\r\n",
        "\r\n",
        "            num_images += 1\r\n",
        "                \r\n",
        "        classes += 1\r\n",
        "        if classes == num_classes:\r\n",
        "            break\r\n",
        "\r\n",
        "    return X_train, y_train, X_val, y_val, X_test, y_test, labels\r\n"
      ],
      "execution_count": 12,
      "outputs": []
    },
    {
      "cell_type": "code",
      "metadata": {
        "id": "3-aXTYsDVXiE"
      },
      "source": [
        "#!rm -r png128\r\n",
        "##actually resize the images\r\n",
        "resize_images(res=image_size)\r\n"
      ],
      "execution_count": 13,
      "outputs": []
    },
    {
      "cell_type": "code",
      "metadata": {
        "id": "_KBl2Y01V--Q",
        "colab": {
          "base_uri": "https://localhost:8080/"
        },
        "outputId": "007aa085-925e-40e8-d8f1-0a3d9d5412a7"
      },
      "source": [
        "# Organize data for dataloader function\r\n",
        "# Moved into\r\n",
        "#  Model\r\n",
        "#   \\ train\r\n",
        "#     \\ classes\r\n",
        "#     \\  ...\r\n",
        "#   \\ val\r\n",
        "#     \\ classes\r\n",
        "#     \\  ...\r\n",
        "#   \\ test\r\n",
        "#     \\ classes\r\n",
        "#     \\  ...\r\n",
        "\r\n",
        "#Will return them as dataloaders which are not used\r\n",
        "X_train, y_train, X_val, y_val, X_test, y_test, labels = move_data(num_classes=250, res=224,saveFile=True)\r\n",
        "# X_train = 48*250 (12000) x 128 x 128 x 1\r\n",
        "# X_val = 16*250 (4000) x 128 x 128 x 1\r\n",
        "# X_test = 16*250 (4000) x 128 x 128 x 1\r\n",
        "\r\n",
        "print(len(y_train)) # 12000\r\n",
        "print(len(y_val)) # 4000\r\n",
        "print(len(y_test)) # 4000\r\n",
        "print(len(labels)) # 250"
      ],
      "execution_count": 14,
      "outputs": [
        {
          "output_type": "stream",
          "text": [
            "12000\n",
            "4000\n",
            "4000\n",
            "250\n"
          ],
          "name": "stdout"
        }
      ]
    },
    {
      "cell_type": "code",
      "metadata": {
        "colab": {
          "base_uri": "https://localhost:8080/"
        },
        "id": "v8IShT2H14WY",
        "outputId": "bc7a8981-56e4-4338-fa10-4f1cc50a92ea"
      },
      "source": [
        "# Double check done correctly\r\n",
        "\r\n",
        "\r\n",
        "#should all be 250\r\n",
        "!ls -l ./png | grep \"^d\" | wc -l\r\n",
        "!ls -l ./png224 | grep \"^d\" | wc -l\r\n",
        "!ls -l ./png224output/train | grep \"^d\" | wc -l\r\n",
        "!ls -l ./png224output/test | grep \"^d\" | wc -l\r\n",
        "!ls -l ./png224output/val | grep \"^d\" | wc -l\r\n",
        "\r\n",
        "# 48 16 16\r\n",
        "!ls -l ./png224output/train/airplane | egrep -c '^-'\r\n",
        "!ls -l ./png224output/test/airplane | egrep -c '^-'\r\n",
        "!ls -l ./png224output/val/airplane | egrep -c '^-'\r\n",
        "\r\n",
        "# all 80\r\n",
        "!ls -l ./png224/airplane | egrep -c '^-'\r\n",
        "!ls -l ./png224/zebra | egrep -c '^-'\r\n",
        "!ls -l ./png/zebra | egrep -c '^-'\r\n",
        "!ls -l ./png/airplane | egrep -c '^-'\r\n",
        "\r\n"
      ],
      "execution_count": 20,
      "outputs": [
        {
          "output_type": "stream",
          "text": [
            "250\n",
            "250\n",
            "250\n",
            "250\n",
            "250\n",
            "48\n",
            "16\n",
            "16\n",
            "80\n",
            "80\n",
            "80\n",
            "80\n"
          ],
          "name": "stdout"
        }
      ]
    }
  ]
}